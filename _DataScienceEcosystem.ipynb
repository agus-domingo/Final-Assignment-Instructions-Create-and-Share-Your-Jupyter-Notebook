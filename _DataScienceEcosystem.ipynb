{
 "cells": [
  {
   "cell_type": "markdown",
   "id": "238ad99a-d6ed-4045-b2fc-95710c982d1d",
   "metadata": {},
   "source": [
    "# Data Science Tools and Ecosystem"
   ]
  },
  {
   "cell_type": "markdown",
   "id": "d76b0d06-87cb-4028-bec0-d99c2127af21",
   "metadata": {},
   "source": [
    "In this notebook, Data Science Tools and Ecosystem are summarized"
   ]
  },
  {
   "cell_type": "markdown",
   "id": "e42592d5-2abc-42d7-a181-492d126a941f",
   "metadata": {},
   "source": [
    "**Objectives**\n",
    "+ Listing of different Data Science commonly used languages\n",
    "+ Listing of different Data Science commonly used libraries\n",
    "+ Table visualization of free open source Data Science Environments"
   ]
  },
  {
   "cell_type": "markdown",
   "id": "19d1471e-fa5c-43d6-8641-8e05ee8db3b7",
   "metadata": {},
   "source": [
    "Some of the popular languages that Data Scientists use are:\n",
    "+ Python\n",
    "+ R\n",
    "+ SQL"
   ]
  },
  {
   "cell_type": "markdown",
   "id": "2c73e5cd-9811-4a47-bacb-bb634e271638",
   "metadata": {},
   "source": [
    "Some of the commonly used libraries used by Data Scientists include:\n",
    "+ NumbPy\n",
    "+ Pandas\n",
    "+ Matplotlib\n"
   ]
  },
  {
   "cell_type": "markdown",
   "id": "68381d9e-95da-4948-96a6-5bbed1e80d5a",
   "metadata": {},
   "source": [
    "|Data Science Tools|\n",
    "|------------------|\n",
    "|Visual Studio Code|\n",
    "|Google Colab|\n",
    "|Spyder|"
   ]
  },
  {
   "cell_type": "markdown",
   "id": "a6abbf88-7b7e-4659-af14-30c22702a114",
   "metadata": {},
   "source": [
    "### Below are a few examples of evaluating arithmetic expressions in Python\n",
    "\n"
   ]
  },
  {
   "cell_type": "code",
   "execution_count": 15,
   "id": "30ff9f14-8812-4910-97de-f91b839dc48b",
   "metadata": {},
   "outputs": [
    {
     "data": {
      "text/plain": [
       "17"
      ]
     },
     "execution_count": 15,
     "metadata": {},
     "output_type": "execute_result"
    }
   ],
   "source": [
    "##This a simple arithmetic expression to mutiply then add integers\n",
    "(3*4)+5"
   ]
  },
  {
   "cell_type": "code",
   "execution_count": 17,
   "id": "3c191c3a-76eb-4e45-97b2-536859d771cc",
   "metadata": {},
   "outputs": [
    {
     "data": {
      "text/plain": [
       "3.3333333333333335"
      ]
     },
     "execution_count": 17,
     "metadata": {},
     "output_type": "execute_result"
    }
   ],
   "source": [
    "##This will convert 200 minutes to hours by diving by 60\n",
    "200/60"
   ]
  },
  {
   "cell_type": "markdown",
   "id": "41f53d0e-b8bc-4aaa-9405-695453837c58",
   "metadata": {},
   "source": [
    "## Author\n",
    "Agustin Domingo"
   ]
  }
 ],
 "metadata": {
  "kernelspec": {
   "display_name": "Python 3 (ipykernel)",
   "language": "python",
   "name": "python3"
  },
  "language_info": {
   "codemirror_mode": {
    "name": "ipython",
    "version": 3
   },
   "file_extension": ".py",
   "mimetype": "text/x-python",
   "name": "python",
   "nbconvert_exporter": "python",
   "pygments_lexer": "ipython3",
   "version": "3.12.4"
  }
 },
 "nbformat": 4,
 "nbformat_minor": 5
}
